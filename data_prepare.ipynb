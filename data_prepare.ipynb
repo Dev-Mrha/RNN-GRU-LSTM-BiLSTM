{
 "cells": [
  {
   "cell_type": "code",
   "execution_count": 1,
   "id": "fb6aa88d-b8d6-4971-a95c-2315b6d494dd",
   "metadata": {},
   "outputs": [],
   "source": [
    "import pandas as pd"
   ]
  },
  {
   "cell_type": "code",
   "execution_count": 2,
   "id": "d5a939e8-8b24-401f-bae1-2bd29c5dd96e",
   "metadata": {},
   "outputs": [
    {
     "name": "stdout",
     "output_type": "stream",
     "text": [
      "评论数目（总体）：62774\n",
      "评论数目（正向）：31728\n",
      "评论数目（负向）：31046\n"
     ]
    }
   ],
   "source": [
    "path = 'online_shopping_10_cats.csv'\n",
    "\n",
    "pd_all = pd.read_csv(path)\n",
    "\n",
    "print('评论数目（总体）：%d' % pd_all.shape[0])\n",
    "print('评论数目（正向）：%d' % pd_all[pd_all.label == 1].shape[0])\n",
    "print('评论数目（负向）：%d' % pd_all[pd_all.label == 0].shape[0])\n"
   ]
  },
  {
   "cell_type": "code",
   "execution_count": 3,
   "id": "d44bd51c-0415-45da-9405-c3b1806c9762",
   "metadata": {},
   "outputs": [
    {
     "name": "stdout",
     "output_type": "stream",
     "text": [
      "书籍: 3851 (总体), 2100 (正例), 1751 (负例)\n",
      "平板: 10000 (总体), 5000 (正例), 5000 (负例)\n",
      "手机: 2323 (总体), 1165 (正例), 1158 (负例)\n",
      "水果: 10000 (总体), 5000 (正例), 5000 (负例)\n",
      "洗发水: 10000 (总体), 5000 (正例), 5000 (负例)\n",
      "热水器: 575 (总体), 475 (正例), 100 (负例)\n",
      "蒙牛: 2033 (总体), 992 (正例), 1041 (负例)\n",
      "衣服: 10000 (总体), 5000 (正例), 5000 (负例)\n",
      "计算机: 3992 (总体), 1996 (正例), 1996 (负例)\n",
      "酒店: 10000 (总体), 5000 (正例), 5000 (负例)\n"
     ]
    }
   ],
   "source": [
    "all_cats = ['书籍', '平板', '手机', '水果', '洗发水', '热水器', '蒙牛', '衣服', '计算机', '酒店']  # 全部类别\n",
    "\n",
    "for cat in all_cats:\n",
    "    pd_data = pd_all[pd_all.cat == cat]\n",
    "    print('{}: {} (总体), {} (正例), {} (负例)'.format(cat, pd_data.shape[0],\n",
    "                                                 pd_data[pd_data.label == 1].shape[0],\n",
    "                                                 pd_data[pd_data.label == 0].shape[0]))\n"
   ]
  },
  {
   "cell_type": "code",
   "execution_count": 4,
   "id": "bcb835fc-04e8-4b1d-a96c-51d5a76aaeb2",
   "metadata": {},
   "outputs": [],
   "source": [
    "import csv"
   ]
  },
  {
   "cell_type": "code",
   "execution_count": 10,
   "id": "4b0fc42c-132e-46d0-9f98-141366a679af",
   "metadata": {},
   "outputs": [],
   "source": [
    "train_path = 'train.csv'\n",
    "test_path = 'test.csv'\n",
    "valid_path = 'valid.csv'\n",
    "\n",
    "train_rows = []\n",
    "test_rows = []\n",
    "valid_rows = []\n",
    "\n",
    "with open(path, \"r\") as rd:\n",
    "    rdcsv = csv.reader(rd)\n",
    "    i = 0\n",
    "    for line in rdcsv:\n",
    "        if (i==0):\n",
    "            test_rows.append(line)\n",
    "            valid_rows.append(line)\n",
    "            train_rows.append(line)\n",
    "            continue\n",
    "        i = i + 1\n",
    "        if (i % 5 == 0):\n",
    "            test_rows.append(line)\n",
    "        elif (i % 5 == 4):\n",
    "            valid_rows.append(line)\n",
    "        else:\n",
    "            train_rows.append(line)\n",
    "\n",
    "with open(train_path, \"w\") as train:\n",
    "    with open(test_path, \"w\") as test:\n",
    "        with open(valid_path, \"w\") as valid:\n",
    "            train_writer = csv.writer(train)\n",
    "            test_writer = csv.writer(test)\n",
    "            valid_writer = csv.writer(valid)\n",
    "            train_writer.writerows(train_rows)\n",
    "            test_writer.writerows(test_rows)\n",
    "            valid_writer.writerows(valid_rows)\n",
    "\n"
   ]
  }
 ],
 "metadata": {
  "kernelspec": {
   "display_name": "Conda-python3",
   "language": "python",
   "name": "conda-python3"
  },
  "language_info": {
   "codemirror_mode": {
    "name": "ipython",
    "version": 3
   },
   "file_extension": ".py",
   "mimetype": "text/x-python",
   "name": "python",
   "nbconvert_exporter": "python",
   "pygments_lexer": "ipython3",
   "version": "3.6.4"
  }
 },
 "nbformat": 4,
 "nbformat_minor": 5
}
